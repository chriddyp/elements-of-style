{
 "cells": [
  {
   "cell_type": "code",
   "execution_count": 9,
   "metadata": {
    "collapsed": true
   },
   "outputs": [],
   "source": [
    "import plotly.plotly as py\n",
    "import plotly.tools as tls\n",
    "import copy"
   ]
  },
  {
   "cell_type": "code",
   "execution_count": 10,
   "metadata": {
    "collapsed": true
   },
   "outputs": [],
   "source": [
    "basefig = py.get_figure('https://plot.ly/~chriddyp/664')"
   ]
  },
  {
   "cell_type": "code",
   "execution_count": 23,
   "metadata": {
    "collapsed": false
   },
   "outputs": [
    {
     "data": {
      "text/plain": [
       "[1, 2, 3, 4]"
      ]
     },
     "execution_count": 23,
     "metadata": {},
     "output_type": "execute_result"
    }
   ],
   "source": [
    "range(1, 5)"
   ]
  },
  {
   "cell_type": "code",
   "execution_count": 30,
   "metadata": {
    "collapsed": false
   },
   "outputs": [
    {
     "name": "stdout",
     "output_type": "stream",
     "text": [
      "Help on function make_subplots in module plotly.tools:\n",
      "\n",
      "make_subplots(rows=1, cols=1, shared_xaxes=False, shared_yaxes=False, start_cell='top-left', print_grid=True, **kwargs)\n",
      "    Return an instance of plotly.graph_objs.Figure\n",
      "    with the subplots domain set in 'layout'.\n",
      "    \n",
      "    Example 1:\n",
      "    # stack two subplots vertically\n",
      "    fig = tools.make_subplots(rows=2)\n",
      "    \n",
      "    This is the format of your plot grid:\n",
      "    [ (1,1) x1,y1 ]\n",
      "    [ (2,1) x2,y2 ]\n",
      "    \n",
      "    fig['data'] += [Scatter(x=[1,2,3], y=[2,1,2])]\n",
      "    fig['data'] += [Scatter(x=[1,2,3], y=[2,1,2], xaxis='x2', yaxis='y2')]\n",
      "    \n",
      "    # or see Figure.append_trace\n",
      "    \n",
      "    Example 2:\n",
      "    # subplots with shared x axes\n",
      "    fig = tools.make_subplots(rows=2, shared_xaxes=True)\n",
      "    \n",
      "    This is the format of your plot grid:\n",
      "    [ (1,1) x1,y1 ]\n",
      "    [ (2,1) x1,y2 ]\n",
      "    \n",
      "    \n",
      "    fig['data'] += [Scatter(x=[1,2,3], y=[2,1,2])]\n",
      "    fig['data'] += [Scatter(x=[1,2,3], y=[2,1,2], yaxis='y2')]\n",
      "    \n",
      "    Example 3:\n",
      "    # irregular subplot layout (more examples below under 'specs')\n",
      "    fig = tools.make_subplots(rows=2, cols=2,\n",
      "                              specs=[[{}, {}],\n",
      "                                     [{'colspan': 2}, None]])\n",
      "    \n",
      "    This is the format of your plot grid!\n",
      "    [ (1,1) x1,y1 ]  [ (1,2) x2,y2 ]\n",
      "    [ (2,1) x3,y3           -      ]\n",
      "    \n",
      "    fig['data'] += [Scatter(x=[1,2,3], y=[2,1,2])]\n",
      "    fig['data'] += [Scatter(x=[1,2,3], y=[2,1,2], xaxis='x2', yaxis='y2')]\n",
      "    fig['data'] += [Scatter(x=[1,2,3], y=[2,1,2], xaxis='x3', yaxis='y3')]\n",
      "    \n",
      "    Example 4:\n",
      "    # insets\n",
      "    fig = tools.make_subplots(insets=[{'cell': (1,1), 'l': 0.7, 'b': 0.3}])\n",
      "    \n",
      "    This is the format of your plot grid!\n",
      "    [ (1,1) x1,y1 ]\n",
      "    \n",
      "    With insets:\n",
      "    [ x2,y2 ] over [ (1,1) x1,y1 ]\n",
      "    \n",
      "    fig['data'] += [Scatter(x=[1,2,3], y=[2,1,2])]\n",
      "    fig['data'] += [Scatter(x=[1,2,3], y=[2,1,2], xaxis='x2', yaxis='y2')]\n",
      "    \n",
      "    Keywords arguments with constant defaults:\n",
      "    \n",
      "    rows (kwarg, int greater than 0, default=1):\n",
      "        Number of rows in the subplot grid.\n",
      "    \n",
      "    cols (kwarg, int greater than 0, default=1):\n",
      "        Number of columns in the subplot grid.\n",
      "    \n",
      "    shared_xaxes (kwarg, boolean or list, default=False)\n",
      "        Assign shared x axes.\n",
      "        If True, subplots in the same grid column have one common\n",
      "        shared x-axis at the bottom of the gird.\n",
      "    \n",
      "        To assign shared x axes per subplot grid cell (see 'specs'),\n",
      "        send list (or list of lists, one list per shared x axis)\n",
      "        of cell index tuples.\n",
      "    \n",
      "    shared_yaxes (kwarg, boolean or list, default=False)\n",
      "        Assign shared y axes.\n",
      "        If True, subplots in the same grid row have one common\n",
      "        shared y-axis on the left-hand side of the gird.\n",
      "    \n",
      "        To assign shared y axes per subplot grid cell (see 'specs'),\n",
      "        send list (or list of lists, one list per shared y axis)\n",
      "        of cell index tuples.\n",
      "    \n",
      "    start_cell (kwarg, 'bottom-left' or 'top-left', default='top-left')\n",
      "        Choose the starting cell in the subplot grid used to set the\n",
      "        domains of the subplots.\n",
      "    \n",
      "    print_grid (kwarg, boolean, default=True):\n",
      "        If True, prints a tab-delimited string representation of\n",
      "        your plot grid.\n",
      "    \n",
      "    Keyword arguments with variable defaults:\n",
      "    \n",
      "    horizontal_spacing (kwarg, float in [0,1], default=0.2 / cols):\n",
      "        Space between subplot columns.\n",
      "        Applies to all columns (use 'specs' subplot-dependents spacing)\n",
      "    \n",
      "    vertical_spacing (kwarg, float in [0,1], default=0.3 / rows):\n",
      "        Space between subplot rows.\n",
      "        Applies to all rows (use 'specs' subplot-dependents spacing)\n",
      "    \n",
      "    specs (kwarg, list of lists of dictionaries):\n",
      "        Subplot specifications.\n",
      "    \n",
      "        ex1: specs=[[{}, {}], [{'colspan': 2}, None]]\n",
      "    \n",
      "        ex2: specs=[[{'rowspan': 2}, {}], [None, {}]]\n",
      "    \n",
      "        - Indices of the outer list correspond to subplot grid rows\n",
      "          starting from the bottom. The number of rows in 'specs'\n",
      "          must be equal to 'rows'.\n",
      "    \n",
      "        - Indices of the inner lists correspond to subplot grid columns\n",
      "          starting from the left. The number of columns in 'specs'\n",
      "          must be equal to 'cols'.\n",
      "    \n",
      "        - Each item in the 'specs' list corresponds to one subplot\n",
      "          in a subplot grid. (N.B. The subplot grid has exactly 'rows'\n",
      "          times 'cols' cells.)\n",
      "    \n",
      "        - Use None for blank a subplot cell (or to move pass a col/row span).\n",
      "    \n",
      "        - Note that specs[0][0] has the specs of the 'start_cell' subplot.\n",
      "    \n",
      "        - Each item in 'specs' is a dictionary.\n",
      "            The available keys are:\n",
      "    \n",
      "            * is_3d (boolean, default=False): flag for 3d scenes\n",
      "            * colspan (int, default=1): number of subplot columns\n",
      "                for this subplot to span.\n",
      "            * rowspan (int, default=1): number of subplot rows\n",
      "                for this subplot to span.\n",
      "            * l (float, default=0.0): padding left of cell\n",
      "            * r (float, default=0.0): padding right of cell\n",
      "            * t (float, default=0.0): padding right of cell\n",
      "            * b (float, default=0.0): padding bottom of cell\n",
      "    \n",
      "        - Use 'horizontal_spacing' and 'vertical_spacing' to adjust\n",
      "          the spacing in between the subplots.\n",
      "    \n",
      "    insets (kwarg, list of dictionaries):\n",
      "        Inset specifications.\n",
      "    \n",
      "        - Each item in 'insets' is a dictionary.\n",
      "            The available keys are:\n",
      "    \n",
      "            * cell (tuple, default=(1,1)): (row, col) index of the\n",
      "                subplot cell to overlay inset axes onto.\n",
      "            * is_3d (boolean, default=False): flag for 3d scenes\n",
      "            * l (float, default=0.0): padding left of inset\n",
      "                  in fraction of cell width\n",
      "            * w (float or 'to_end', default='to_end') inset width\n",
      "                  in fraction of cell width ('to_end': to cell right edge)\n",
      "            * b (float, default=0.0): padding bottom of inset\n",
      "                  in fraction of cell height\n",
      "            * h (float or 'to_end', default='to_end') inset height\n",
      "                  in fraction of cell height ('to_end': to cell top edge)\n",
      "\n"
     ]
    }
   ],
   "source": [
    "help(tls.make_subplots)"
   ]
  },
  {
   "cell_type": "code",
   "execution_count": 48,
   "metadata": {
    "collapsed": false
   },
   "outputs": [],
   "source": [
    "def colorscales_fig(basefig):\n",
    "    sequential = ['Hot', 'YIOrRd', 'Greens', 'Greys', [[0, u'rgb(208, 224, 227)'], [1, u'rgb(8, 29, 88)']]]\n",
    "    diverging = ['RdBu', 'Portland']\n",
    "    categorical = ['Earth', 'YIGnBu', 'Blackbody', 'Picnic', 'Jet', 'Electric']\n",
    "    ambiguous = ['Bluered']\n",
    "\n",
    "    fig = tls.make_subplots(rows=4, cols=6, shared_xaxes=True, shared_yaxes=True,\n",
    "                            vertical_spacing=0.05/4, horizontal_spacing=0.03/4)\n",
    "\n",
    "    basefig['data'][0]['showscale'] = False\n",
    "\n",
    "    d = dict(     \n",
    "        autorange=True,\n",
    "        showgrid=False,\n",
    "        zeroline=False,\n",
    "        showline=False,\n",
    "        autotick=True,\n",
    "        ticks='',\n",
    "        showticklabels=False)\n",
    "\n",
    "    for i in range(1, 5):\n",
    "        fig['layout']['yaxis{}'.format(i)].update(d)\n",
    "    for i in range(1, 7):\n",
    "        fig['layout']['xaxis{}'.format(i)].update(d)    \n",
    "\n",
    "    fig['layout']['yaxis1'].update(title='Sequential')\n",
    "    fig['layout']['yaxis2'].update(title='Diverging')\n",
    "    fig['layout']['yaxis3'].update(title='Categorical')\n",
    "    fig['layout']['yaxis4'].update(title='Ambiguous')\n",
    "\n",
    "    for j, colorscale in enumerate(sequential):\n",
    "        t = copy.deepcopy(basefig['data'][0])\n",
    "        t.update({'colorscale': colorscale})\n",
    "        fig.append_trace(t, 1, j+1)\n",
    "\n",
    "    for j, colorscale in enumerate(diverging):\n",
    "        t = copy.deepcopy(basefig['data'][0])\n",
    "        t.update({'colorscale': colorscale})\n",
    "        fig.append_trace(t, 2, j+1)\n",
    "\n",
    "    for j, colorscale in enumerate(categorical):\n",
    "        t = copy.deepcopy(basefig['data'][0])\n",
    "        t.update({'colorscale': colorscale})\n",
    "        fig.append_trace(t, 3, j+1)\n",
    "\n",
    "    for j, colorscale in enumerate(ambiguous):\n",
    "        t = copy.deepcopy(basefig['data'][0])\n",
    "        t.update({'colorscale': colorscale})\n",
    "        fig.append_trace(t, 4, j+1)\n",
    "\n",
    "    fig['layout']['title'] = 'Colorscale Collage'\n",
    "    fig['layout']['width'] =  1350\n",
    "    fig['layout']['height'] = 1000\n",
    "    return fig\n"
   ]
  },
  {
   "cell_type": "code",
   "execution_count": 49,
   "metadata": {
    "collapsed": false
   },
   "outputs": [
    {
     "name": "stdout",
     "output_type": "stream",
     "text": [
      "This is the format of your plot grid:\n",
      "[ (1,1) x1,y1 ]  [ (1,2) x2,y1 ]  [ (1,3) x3,y1 ]  [ (1,4) x4,y1 ]  [ (1,5) x5,y1 ]  [ (1,6) x6,y1 ]\n",
      "[ (2,1) x1,y2 ]  [ (2,2) x2,y2 ]  [ (2,3) x3,y2 ]  [ (2,4) x4,y2 ]  [ (2,5) x5,y2 ]  [ (2,6) x6,y2 ]\n",
      "[ (3,1) x1,y3 ]  [ (3,2) x2,y3 ]  [ (3,3) x3,y3 ]  [ (3,4) x4,y3 ]  [ (3,5) x5,y3 ]  [ (3,6) x6,y3 ]\n",
      "[ (4,1) x1,y4 ]  [ (4,2) x2,y4 ]  [ (4,3) x3,y4 ]  [ (4,4) x4,y4 ]  [ (4,5) x5,y4 ]  [ (4,6) x6,y4 ]\n",
      "\n",
      "The draw time for this plot will be slow for clients without much RAM.\n"
     ]
    },
    {
     "data": {
      "text/html": [
       "<iframe id=\"igraph\" scrolling=\"no\" style=\"border:none;\"seamless=\"seamless\" src=\"https://plot.ly/~chris/8523.embed\" height=\"525\" width=\"100%\"></iframe>"
      ],
      "text/plain": [
       "<plotly.tools.PlotlyDisplay object>"
      ]
     },
     "execution_count": 49,
     "metadata": {},
     "output_type": "execute_result"
    }
   ],
   "source": [
    "py.iplot(colorscales_fig(py.get_figure('https://plot.ly/~chriddyp/664')), filename='elements-of-style/sequential color scales')"
   ]
  },
  {
   "cell_type": "code",
   "execution_count": 51,
   "metadata": {
    "collapsed": false
   },
   "outputs": [
    {
     "name": "stdout",
     "output_type": "stream",
     "text": [
      "This is the format of your plot grid:\n",
      "[ (1,1) x1,y1 ]  [ (1,2) x2,y1 ]  [ (1,3) x3,y1 ]  [ (1,4) x4,y1 ]  [ (1,5) x5,y1 ]  [ (1,6) x6,y1 ]\n",
      "[ (2,1) x1,y2 ]  [ (2,2) x2,y2 ]  [ (2,3) x3,y2 ]  [ (2,4) x4,y2 ]  [ (2,5) x5,y2 ]  [ (2,6) x6,y2 ]\n",
      "[ (3,1) x1,y3 ]  [ (3,2) x2,y3 ]  [ (3,3) x3,y3 ]  [ (3,4) x4,y3 ]  [ (3,5) x5,y3 ]  [ (3,6) x6,y3 ]\n",
      "[ (4,1) x1,y4 ]  [ (4,2) x2,y4 ]  [ (4,3) x3,y4 ]  [ (4,4) x4,y4 ]  [ (4,5) x5,y4 ]  [ (4,6) x6,y4 ]\n",
      "\n",
      "The draw time for this plot will be slow for clients without much RAM.\n"
     ]
    },
    {
     "data": {
      "text/html": [
       "<iframe id=\"igraph\" scrolling=\"no\" style=\"border:none;\"seamless=\"seamless\" src=\"https://plot.ly/~chris/8523.embed\" height=\"525\" width=\"100%\"></iframe>"
      ],
      "text/plain": [
       "<plotly.tools.PlotlyDisplay object>"
      ]
     },
     "execution_count": 51,
     "metadata": {},
     "output_type": "execute_result"
    }
   ],
   "source": [
    "py.iplot(colorscales_fig(py.get_figure('https://plot.ly/~chris/5496')), filename='elements-of-style/sequential color scales')"
   ]
  },
  {
   "cell_type": "code",
   "execution_count": null,
   "metadata": {
    "collapsed": true
   },
   "outputs": [],
   "source": []
  }
 ],
 "metadata": {
  "kernelspec": {
   "display_name": "Python 2",
   "language": "python",
   "name": "python2"
  },
  "language_info": {
   "codemirror_mode": {
    "name": "ipython",
    "version": 2
   },
   "file_extension": ".py",
   "mimetype": "text/x-python",
   "name": "python",
   "nbconvert_exporter": "python",
   "pygments_lexer": "ipython2",
   "version": "2.7.9"
  }
 },
 "nbformat": 4,
 "nbformat_minor": 0
}
