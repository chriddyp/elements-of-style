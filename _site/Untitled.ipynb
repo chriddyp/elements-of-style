{
 "cells": [
  {
   "cell_type": "code",
   "execution_count": 9,
   "metadata": {
    "collapsed": true
   },
   "outputs": [],
   "source": [
    "import plotly.plotly as py\n",
    "import plotly.tools as tls\n",
    "import copy"
   ]
  },
  {
   "cell_type": "code",
   "execution_count": 10,
   "metadata": {
    "collapsed": true
   },
   "outputs": [],
   "source": [
    "basefig = py.get_figure('https://plot.ly/~chriddyp/664')"
   ]
  },
  {
   "cell_type": "code",
   "execution_count": 23,
   "metadata": {
    "collapsed": false
   },
   "outputs": [
    {
     "data": {
      "text/plain": [
       "[1, 2, 3, 4]"
      ]
     },
     "execution_count": 23,
     "metadata": {},
     "output_type": "execute_result"
    }
   ],
   "source": [
    "range(1, 5)"
   ]
  },
  {
   "cell_type": "code",
   "execution_count": 25,
   "metadata": {
    "collapsed": false
   },
   "outputs": [
    {
     "name": "stdout",
     "output_type": "stream",
     "text": [
      "This is the format of your plot grid:\n",
      "[ (1,1) x1,y1 ]  [ (1,2) x2,y1 ]  [ (1,3) x3,y1 ]  [ (1,4) x4,y1 ]  [ (1,5) x5,y1 ]  [ (1,6) x6,y1 ]\n",
      "[ (2,1) x1,y2 ]  [ (2,2) x2,y2 ]  [ (2,3) x3,y2 ]  [ (2,4) x4,y2 ]  [ (2,5) x5,y2 ]  [ (2,6) x6,y2 ]\n",
      "[ (3,1) x1,y3 ]  [ (3,2) x2,y3 ]  [ (3,3) x3,y3 ]  [ (3,4) x4,y3 ]  [ (3,5) x5,y3 ]  [ (3,6) x6,y3 ]\n",
      "[ (4,1) x1,y4 ]  [ (4,2) x2,y4 ]  [ (4,3) x3,y4 ]  [ (4,4) x4,y4 ]  [ (4,5) x5,y4 ]  [ (4,6) x6,y4 ]\n",
      "\n"
     ]
    },
    {
     "ename": "KeyError",
     "evalue": "'yaxis5'",
     "output_type": "error",
     "traceback": [
      "\u001b[0;31m---------------------------------------------------------------------------\u001b[0m",
      "\u001b[0;31mKeyError\u001b[0m                                  Traceback (most recent call last)",
      "\u001b[0;32m<ipython-input-25-d223d78ba5a5>\u001b[0m in \u001b[0;36m<module>\u001b[0;34m()\u001b[0m\n\u001b[1;32m     27\u001b[0m     \u001b[0mfig\u001b[0m\u001b[0;34m.\u001b[0m\u001b[0mappend_trace\u001b[0m\u001b[0;34m(\u001b[0m\u001b[0mt\u001b[0m\u001b[0;34m,\u001b[0m \u001b[0;36m1\u001b[0m\u001b[0;34m,\u001b[0m \u001b[0mj\u001b[0m\u001b[0;34m+\u001b[0m\u001b[0;36m1\u001b[0m\u001b[0;34m)\u001b[0m\u001b[0;34m\u001b[0m\u001b[0m\n\u001b[1;32m     28\u001b[0m \u001b[0;34m\u001b[0m\u001b[0m\n\u001b[0;32m---> 29\u001b[0;31m     \u001b[0mfig\u001b[0m\u001b[0;34m[\u001b[0m\u001b[0;34m'layout'\u001b[0m\u001b[0;34m]\u001b[0m\u001b[0;34m[\u001b[0m\u001b[0;34m'yaxis{}'\u001b[0m\u001b[0;34m.\u001b[0m\u001b[0mformat\u001b[0m\u001b[0;34m(\u001b[0m\u001b[0mj\u001b[0m\u001b[0;34m+\u001b[0m\u001b[0;36m1\u001b[0m\u001b[0;34m)\u001b[0m\u001b[0;34m]\u001b[0m\u001b[0;34m.\u001b[0m\u001b[0mupdate\u001b[0m\u001b[0;34m(\u001b[0m\u001b[0md\u001b[0m\u001b[0;34m)\u001b[0m\u001b[0;34m\u001b[0m\u001b[0m\n\u001b[0m\u001b[1;32m     30\u001b[0m \u001b[0;34m\u001b[0m\u001b[0m\n\u001b[1;32m     31\u001b[0m \u001b[0;32mfor\u001b[0m \u001b[0mj\u001b[0m\u001b[0;34m,\u001b[0m \u001b[0mcolorscale\u001b[0m \u001b[0;32min\u001b[0m \u001b[0menumerate\u001b[0m\u001b[0;34m(\u001b[0m\u001b[0mdiverging\u001b[0m\u001b[0;34m)\u001b[0m\u001b[0;34m:\u001b[0m\u001b[0;34m\u001b[0m\u001b[0m\n",
      "\u001b[0;31mKeyError\u001b[0m: 'yaxis5'"
     ]
    }
   ],
   "source": [
    "sequential = ['Hot', 'YIOrRd', 'Greens', 'Greys', [[0, u'rgb(208, 224, 227)'], [1, u'rgb(8, 29, 88)']]]\n",
    "diverging = ['RdBu', 'Portland']\n",
    "categorical = ['Earth', 'YIGnBu', 'Blackbody', 'Picnic', 'Jet', 'Electric']\n",
    "ambiguous = ['Bluered']\n",
    "\n",
    "fig = tls.make_subplots(rows=4, cols=6, shared_xaxes=True, shared_yaxes=True)\n",
    "\n",
    "basefig['data'][0]['showscale'] = False\n",
    "\n",
    "d = dict(     \n",
    "    autorange=True,\n",
    "    showgrid=False,\n",
    "    zeroline=False,\n",
    "    showline=False,\n",
    "    autotick=True,\n",
    "    ticks='',\n",
    "    showticklabels=False)\n",
    "\n",
    "for i in range(1, 5):\n",
    "    fig['layout']['yaxis{}'.format(i)].update(d)\n",
    "for i in range(1, 7):\n",
    "    fig['layout']['xaxis{}'.format(i)].update(d)    \n",
    "\n",
    "for j, colorscale in enumerate(sequential):\n",
    "    t = copy.deepcopy(basefig['data'][0])\n",
    "    t.update({'colorscale': colorscale})\n",
    "    fig.append_trace(t, 1, j+1)\n",
    "    \n",
    "    fig['layout']['yaxis{}'.format(j+1)].update(d)\n",
    "\n",
    "for j, colorscale in enumerate(diverging):\n",
    "    t = copy.deepcopy(basefig['data'][0])\n",
    "    t.update({'colorscale': colorscale})\n",
    "    fig.append_trace(t, 2, j+1)\n",
    "\n",
    "for j, colorscale in enumerate(categorical):\n",
    "    t = copy.deepcopy(basefig['data'][0])\n",
    "    t.update({'colorscale': colorscale})\n",
    "    fig.append_trace(t, 3, j+1)\n",
    "\n",
    "for j, colorscale in enumerate(ambiguous):\n",
    "    t = copy.deepcopy(basefig['data'][0])\n",
    "    t.update({'colorscale': colorscale})\n",
    "    fig.append_trace(t, 4, j+1)"
   ]
  },
  {
   "cell_type": "code",
   "execution_count": 21,
   "metadata": {
    "collapsed": false
   },
   "outputs": [
    {
     "name": "stdout",
     "output_type": "stream",
     "text": [
      "The draw time for this plot will be slow for clients without much RAM.\n"
     ]
    },
    {
     "name": "stderr",
     "output_type": "stream",
     "text": [
      "//anaconda/lib/python2.7/site-packages/plotly/plotly/plotly.py:1261: UserWarning:\n",
      "\n",
      "Estimated Draw Time Slow\n",
      "\n"
     ]
    },
    {
     "data": {
      "text/html": [
       "<iframe id=\"igraph\" scrolling=\"no\" style=\"border:none;\"seamless=\"seamless\" src=\"https://plot.ly/~chris/8522.embed\" height=\"525\" width=\"100%\"></iframe>"
      ],
      "text/plain": [
       "<plotly.tools.PlotlyDisplay object>"
      ]
     },
     "execution_count": 21,
     "metadata": {},
     "output_type": "execute_result"
    }
   ],
   "source": [
    "py.iplot(fig, filename='elements-of-style/color scales')"
   ]
  },
  {
   "cell_type": "code",
   "execution_count": 14,
   "metadata": {
    "collapsed": false
   },
   "outputs": [
    {
     "data": {
      "text/plain": [
       "[[0, u'rgb(208, 224, 227)'], [1, u'rgb(8, 29, 88)']]"
      ]
     },
     "execution_count": 14,
     "metadata": {},
     "output_type": "execute_result"
    }
   ],
   "source": [
    "basefig['data'][0]['colorscale']"
   ]
  },
  {
   "cell_type": "code",
   "execution_count": null,
   "metadata": {
    "collapsed": true
   },
   "outputs": [],
   "source": []
  }
 ],
 "metadata": {
  "kernelspec": {
   "display_name": "Python 2",
   "language": "python",
   "name": "python2"
  },
  "language_info": {
   "codemirror_mode": {
    "name": "ipython",
    "version": 2
   },
   "file_extension": ".py",
   "mimetype": "text/x-python",
   "name": "python",
   "nbconvert_exporter": "python",
   "pygments_lexer": "ipython2",
   "version": "2.7.9"
  }
 },
 "nbformat": 4,
 "nbformat_minor": 0
}
